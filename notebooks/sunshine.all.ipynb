{
 "metadata": {
  "name": "sunshine.all"
 },
 "nbformat": 3,
 "nbformat_minor": 0,
 "worksheets": [
  {
   "cells": [
    {
     "cell_type": "code",
     "collapsed": false,
     "input": [
      "import pandas as pd\n",
      "import re\n",
      "import prettyplotlib as ppl\n",
      "from prettyplotlib import plt\n",
      "from unidecode import unidecode\n",
      "import datetime\n",
      "import json"
     ],
     "language": "python",
     "metadata": {},
     "outputs": [],
     "prompt_number": 57
    },
    {
     "cell_type": "code",
     "collapsed": false,
     "input": [
      "df = pd.read_csv('./data/sunshine.all.csv')"
     ],
     "language": "python",
     "metadata": {},
     "outputs": [],
     "prompt_number": 58
    },
    {
     "cell_type": "code",
     "collapsed": false,
     "input": [
      "df"
     ],
     "language": "python",
     "metadata": {},
     "outputs": [
      {
       "html": [
        "<pre>\n",
        "&lt;class 'pandas.core.frame.DataFrame'&gt;\n",
        "Int64Index: 1288506 entries, 0 to 1288505\n",
        "Data columns (total 7 columns):\n",
        "ORIGIN                         1288506  non-null values\n",
        "LABO                           1288506  non-null values\n",
        "BENEF_PS_QUALITE_NOM_PRENOM    691792  non-null values\n",
        "BENEF_PS_QUALIFICATION         1009655  non-null values\n",
        "DECL_AVANT_NATURE              1155397  non-null values\n",
        "DECL_AVANT_DATE                1157728  non-null values\n",
        "DECL_AVANT_MONTANT             1150504  non-null values\n",
        "dtypes: float64(1), object(6)\n",
        "</pre>"
       ],
       "output_type": "pyout",
       "prompt_number": 59,
       "text": [
        "<class 'pandas.core.frame.DataFrame'>\n",
        "Int64Index: 1288506 entries, 0 to 1288505\n",
        "Data columns (total 7 columns):\n",
        "ORIGIN                         1288506  non-null values\n",
        "LABO                           1288506  non-null values\n",
        "BENEF_PS_QUALITE_NOM_PRENOM    691792  non-null values\n",
        "BENEF_PS_QUALIFICATION         1009655  non-null values\n",
        "DECL_AVANT_NATURE              1155397  non-null values\n",
        "DECL_AVANT_DATE                1157728  non-null values\n",
        "DECL_AVANT_MONTANT             1150504  non-null values\n",
        "dtypes: float64(1), object(6)"
       ]
      }
     ],
     "prompt_number": 59
    },
    {
     "cell_type": "code",
     "collapsed": false,
     "input": [
      "gp = df.groupby(['ORIGIN', 'LABO'])"
     ],
     "language": "python",
     "metadata": {},
     "outputs": [],
     "prompt_number": 60
    },
    {
     "cell_type": "code",
     "collapsed": false,
     "input": [
      "result = gp.aggregate({'DECL_AVANT_MONTANT': 'sum'})"
     ],
     "language": "python",
     "metadata": {},
     "outputs": [],
     "prompt_number": 61
    },
    {
     "cell_type": "code",
     "collapsed": false,
     "input": [
      "result['DECL_AVANT_COUNT'] = gp.aggregate({'DECL_AVANT_MONTANT': 'count'}).DECL_AVANT_MONTANT"
     ],
     "language": "python",
     "metadata": {},
     "outputs": [],
     "prompt_number": 62
    },
    {
     "cell_type": "code",
     "collapsed": false,
     "input": [
      "result.dropna().to_csv('data/sunshine.origin-labo.csv', encoding='utf-8')"
     ],
     "language": "python",
     "metadata": {},
     "outputs": [],
     "prompt_number": 63
    },
    {
     "cell_type": "code",
     "collapsed": false,
     "input": [
      "result.DECL_AVANT_MONTANT.sum()"
     ],
     "language": "python",
     "metadata": {},
     "outputs": [
      {
       "output_type": "pyout",
       "prompt_number": 64,
       "text": [
        "119772743.22093242"
       ]
      }
     ],
     "prompt_number": 64
    },
    {
     "cell_type": "code",
     "collapsed": false,
     "input": [
      "result.DECL_AVANT_COUNT.sum()"
     ],
     "language": "python",
     "metadata": {},
     "outputs": [
      {
       "output_type": "pyout",
       "prompt_number": 65,
       "text": [
        "1150504"
       ]
      }
     ],
     "prompt_number": 65
    },
    {
     "cell_type": "code",
     "collapsed": false,
     "input": [
      "json_data = []\n",
      "for idx, row in result.dropna().iterrows():\n",
      "    row_dict = row.to_dict()\n",
      "    row_dict['ORIGIN'] = idx[0]\n",
      "    row_dict['LABO'] = idx[1]\n",
      "    json_data.append(row_dict)\n",
      "json.dump(json_data, open('data/sunshine.origin-labo.json', 'w'), encoding='utf-8', indent=2)\n",
      "    "
     ],
     "language": "python",
     "metadata": {},
     "outputs": [],
     "prompt_number": 66
    },
    {
     "cell_type": "code",
     "collapsed": false,
     "input": [
      "df.DECL_AVANT_NATURE."
     ],
     "language": "python",
     "metadata": {},
     "outputs": [
      {
       "output_type": "pyout",
       "prompt_number": 68,
       "text": [
        "(1220,)"
       ]
      }
     ],
     "prompt_number": 68
    },
    {
     "cell_type": "code",
     "collapsed": false,
     "input": [
      "df.shape"
     ],
     "language": "python",
     "metadata": {},
     "outputs": [
      {
       "output_type": "pyout",
       "prompt_number": 69,
       "text": [
        "(1288506, 7)"
       ]
      }
     ],
     "prompt_number": 69
    },
    {
     "cell_type": "code",
     "collapsed": false,
     "input": [
      "count_nature = df.groupby('DECL_AVANT_NATURE').count()"
     ],
     "language": "python",
     "metadata": {},
     "outputs": [],
     "prompt_number": 72
    },
    {
     "cell_type": "code",
     "collapsed": false,
     "input": [
      "count_nature.DECL_AVANT_NATURE.order(ascending=False)[:20].sum()/(1.*count_nature.DECL_AVANT_NATURE.sum())"
     ],
     "language": "python",
     "metadata": {},
     "outputs": [
      {
       "output_type": "pyout",
       "prompt_number": 92,
       "text": [
        "0.93808708175631406"
       ]
      }
     ],
     "prompt_number": 92
    },
    {
     "cell_type": "code",
     "collapsed": false,
     "input": [
      "df[df.ORIGIN=='Pharmacien'].DECL_AVANT_MONTANT.hist(bins=range(0,1000,10))"
     ],
     "language": "python",
     "metadata": {},
     "outputs": [
      {
       "output_type": "pyout",
       "prompt_number": 113,
       "text": [
        "<matplotlib.axes.AxesSubplot at 0x10c0f0090>"
       ]
      },
      {
       "output_type": "display_data",
       "png": "[encoded data removed]"
      }
     ],
     "prompt_number": 113
    },
    {
     "cell_type": "code",
     "collapsed": false,
     "input": [
      "df[df.ORIGIN=='M\\xc3\\xa9decin'].DECL_AVANT_MONTANT.hist(bins=range(0,1000,10))"
     ],
     "language": "python",
     "metadata": {},
     "outputs": [
      {
       "output_type": "pyout",
       "prompt_number": 114,
       "text": [
        "<matplotlib.axes.AxesSubplot at 0x10e4f8050>"
       ]
      },
      {
       "output_type": "display_data",
       "png": "[encoded data removed]"
      }
     ],
     "prompt_number": 114
    },
    {
     "cell_type": "code",
     "collapsed": false,
     "input": [
      "df[df.ORIGIN=='Dentiste'].DECL_AVANT_MONTANT.hist(bins=range(0,1000,10))"
     ],
     "language": "python",
     "metadata": {},
     "outputs": [
      {
       "output_type": "pyout",
       "prompt_number": 115,
       "text": [
        "<matplotlib.axes.AxesSubplot at 0x11042f810>"
       ]
      },
      {
       "output_type": "display_data",
       "png": "[encoded data removed]"
      }
     ],
     "prompt_number": 115
    },
    {
     "cell_type": "code",
     "collapsed": false,
     "input": [
      "df[df.ORIGIN=='Interne'].DECL_AVANT_MONTANT.hist(bins=range(0,1000,10))"
     ],
     "language": "python",
     "metadata": {},
     "outputs": [
      {
       "output_type": "pyout",
       "prompt_number": 116,
       "text": [
        "<matplotlib.axes.AxesSubplot at 0x110487490>"
       ]
      },
      {
       "output_type": "display_data",
       "png": "[encoded data removed]"
      }
     ],
     "prompt_number": 116
    },
    {
     "cell_type": "code",
     "collapsed": false,
     "input": [
      "df"
     ],
     "language": "python",
     "metadata": {},
     "outputs": [
      {
       "html": [
        "<pre>\n",
        "&lt;class 'pandas.core.frame.DataFrame'&gt;\n",
        "Int64Index: 1288506 entries, 0 to 1288505\n",
        "Data columns (total 7 columns):\n",
        "ORIGIN                         1288506  non-null values\n",
        "LABO                           1288506  non-null values\n",
        "BENEF_PS_QUALITE_NOM_PRENOM    691792  non-null values\n",
        "BENEF_PS_QUALIFICATION         1009655  non-null values\n",
        "DECL_AVANT_NATURE              1155397  non-null values\n",
        "DECL_AVANT_DATE                1157728  non-null values\n",
        "DECL_AVANT_MONTANT             1150504  non-null values\n",
        "dtypes: float64(1), object(6)\n",
        "</pre>"
       ],
       "output_type": "pyout",
       "prompt_number": 117,
       "text": [
        "<class 'pandas.core.frame.DataFrame'>\n",
        "Int64Index: 1288506 entries, 0 to 1288505\n",
        "Data columns (total 7 columns):\n",
        "ORIGIN                         1288506  non-null values\n",
        "LABO                           1288506  non-null values\n",
        "BENEF_PS_QUALITE_NOM_PRENOM    691792  non-null values\n",
        "BENEF_PS_QUALIFICATION         1009655  non-null values\n",
        "DECL_AVANT_NATURE              1155397  non-null values\n",
        "DECL_AVANT_DATE                1157728  non-null values\n",
        "DECL_AVANT_MONTANT             1150504  non-null values\n",
        "dtypes: float64(1), object(6)"
       ]
      }
     ],
     "prompt_number": 117
    },
    {
     "cell_type": "code",
     "collapsed": false,
     "input": [],
     "language": "python",
     "metadata": {},
     "outputs": []
    }
   ],
   "metadata": {}
  }
 ]
}